{
 "cells": [
  {
   "cell_type": "markdown",
   "metadata": {},
   "source": [
    "<h1 style=\"color: navy\"> Les décorateurs:</h1>\n",
    "\n",
    "### Exemple 1: appel d'une fonction dans une fonction:"
   ]
  },
  {
   "cell_type": "code",
   "execution_count": 4,
   "metadata": {},
   "outputs": [
    {
     "name": "stdout",
     "output_type": "stream",
     "text": [
      "Bonjour!\n",
      "Au revoir!\n"
     ]
    }
   ],
   "source": [
    "def bonjour ():\n",
    "    return ('Bonjour!')\n",
    "    \n",
    "def ma_fonction (fonction):\n",
    "    print (fonction (), \"Au revoir!\", sep = '\\n')\n",
    "    \n",
    "ma_fonction (bonjour)"
   ]
  },
  {
   "cell_type": "markdown",
   "metadata": {},
   "source": [
    "### Exemple 2: Principe du décorateur:"
   ]
  },
  {
   "cell_type": "code",
   "execution_count": 21,
   "metadata": {},
   "outputs": [
    {
     "name": "stdout",
     "output_type": "stream",
     "text": [
      "==> La fonction non décorée:\n",
      "Au revoir !\n",
      "\n",
      " ==> Et la même fonction, mais décorée:\n",
      "Bonjour !\n",
      "Au revoir !\n",
      "\n",
      "\n",
      "Bonjour !\n",
      "Au revoir !\n",
      "\n",
      "\n"
     ]
    }
   ],
   "source": [
    "def decorateur_de_fonction (fonction):\n",
    "    def bonjour ():\n",
    "        print (\"Bonjour !\")\n",
    "        fonction ()\n",
    "        print (\"\\n\")\n",
    "    return bonjour\n",
    "\n",
    "def fonction_a_decoree ():\n",
    "    print (\"Au revoir !\")\n",
    "\n",
    "# Appel de la fonction, sans le decorateur\n",
    "print ('==> La fonction non décorée:')\n",
    "fonction_a_decoree ()\n",
    "\n",
    "print ('\\n ==> Et la même fonction, mais décorée:')\n",
    "# On créer un objet \"fonction_decoree\" en appliquant le decorateur qui ajoute \"Bonjour !\"\n",
    "fonction_decoree = decorateur_de_fonction (fonction_a_decoree)\n",
    "# Puis on appelle cet objet:\n",
    "fonction_decoree ()\n",
    "\n",
    "# Ou tout simplement: \n",
    "fonction_a_decoree = decorateur_de_fonction (fonction_a_decoree)\n",
    "fonction_a_decoree ()   "
   ]
  },
  {
   "cell_type": "markdown",
   "metadata": {},
   "source": [
    "### Exemple 3: Avec la syntaxe propre d'un décorateur:\n"
   ]
  },
  {
   "cell_type": "code",
   "execution_count": 26,
   "metadata": {},
   "outputs": [
    {
     "name": "stdout",
     "output_type": "stream",
     "text": [
      "Bonjour !\n",
      "Comment allez-vous ?\n",
      "\n",
      "\n"
     ]
    }
   ],
   "source": [
    "@decorateur_de_fonction   \n",
    "# Attention à la syntaxe: @ +nom du décorateur et sans ':' ni indentation !\n",
    "def fonction_decoree2 ():\n",
    "        print (\"Comment allez-vous ?\")\n",
    "        \n",
    "fonction_decoree2 ()"
   ]
  },
  {
   "cell_type": "markdown",
   "metadata": {},
   "source": [
    "### Exemple 3:  Une fonction qui ne s'applique que pour un utilisateur spécifique:"
   ]
  },
  {
   "cell_type": "code",
   "execution_count": 1,
   "metadata": {},
   "outputs": [
    {
     "name": "stdout",
     "output_type": "stream",
     "text": [
      "Mauvais utilisateur !\n",
      "Mon mot de passe est Python\n"
     ]
    }
   ],
   "source": [
    "# Définition du décorateur ==> vérification de l'utilisateur\n",
    "def test_utilisateur (fonction):\n",
    "    def verif_utilisateur (*args):\n",
    "        if args [0] == 'Toto':\n",
    "            fonction (*args)\n",
    "        else :\n",
    "            print (\"Mauvais utilisateur !\")\n",
    "    return verif_utilisateur\n",
    "\n",
    "# Définition d'un mauvais utilisateur avec le bon password:\n",
    "utilisateur = \"Paul\"\n",
    "password_toto = \"Python\"\n",
    "\n",
    "# Définition de la fonction: afficher_mot_de_passe ==> qui affiche le mot\n",
    "# de passe que si l'utilisateur est Toto, en utilisant le décorateur:\n",
    "@test_utilisateur\n",
    "def afficher_mot_de_passe (utilisateur):\n",
    "    print (\"Mon mot de passe est %s\" %(password_toto))\n",
    "\n",
    "# Appel de la fonction décorée:\n",
    "afficher_mot_de_passe (utilisateur)\n",
    "\n",
    "# On change l'utilisateur:\n",
    "utilisateur = \"Toto\"\n",
    "\n",
    "# Appel de la fonction décorée:\n",
    "afficher_mot_de_passe (utilisateur)\n"
   ]
  }
 ],
 "metadata": {
  "kernelspec": {
   "display_name": "Python 3",
   "language": "python",
   "name": "python3"
  },
  "language_info": {
   "codemirror_mode": {
    "name": "ipython",
    "version": 3
   },
   "file_extension": ".py",
   "mimetype": "text/x-python",
   "name": "python",
   "nbconvert_exporter": "python",
   "pygments_lexer": "ipython3",
   "version": "3.7.7"
  }
 },
 "nbformat": 4,
 "nbformat_minor": 4
}
